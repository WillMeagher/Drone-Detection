{
 "cells": [
  {
   "cell_type": "code",
   "execution_count": 16,
   "metadata": {},
   "outputs": [],
   "source": [
    "import requests\n",
    "import json\n",
    "import os"
   ]
  },
  {
   "cell_type": "code",
   "execution_count": 35,
   "metadata": {},
   "outputs": [
    {
     "name": "stdout",
     "output_type": "stream",
     "text": [
      "{'/app/data/TRAIN_txt/0001.jpg': [{'type': {'label': 'many drones', 'value': 0.55224609375}, 'weight': {'label': 'a drone that weighs more than a fifty pounds but less than three hundred pounds', 'value': 0.3671875}}], '/app/data/TRAIN_txt/0003.jpg': [{'type': {'label': 'a quadcopter', 'value': 0.8876953125}, 'weight': {'label': 'a drone that weighs more than a fifty pounds but less than three hundred pounds', 'value': 0.3681640625}}], '/app/data/TRAIN_txt/0004.jpg': [{'type': {'label': 'a quadcopter', 'value': 0.75439453125}, 'weight': {'label': 'a drone that weighs more than a fifty pounds but less than three hundred pounds', 'value': 0.362548828125}}], '/app/data/TRAIN_txt/0005.jpg': [{'type': {'label': 'a fixed wing drone', 'value': 0.77392578125}, 'weight': {'label': 'a drone that weighs more than a three hundred pounds', 'value': 0.283447265625}}], '/app/data/TRAIN_txt/0006.jpg': [{'type': {'label': 'a quadcopter', 'value': 0.51904296875}, 'weight': {'label': 'a drone that weighs more than a fifty pounds but less than three hundred pounds', 'value': 0.37158203125}}]}\n"
     ]
    }
   ],
   "source": [
    "image_path = \"/app/data/TRAIN_txt/\"\n",
    "url = \"http://localhost:5000/\"\n",
    "\n",
    "images = []\n",
    "\n",
    "for image in os.listdir(image_path)[:10]:\n",
    "    if image.endswith(\".txt\") or image == \".gitignore\":\n",
    "        continue\n",
    "\n",
    "    image = image_path + image\n",
    "\n",
    "    images.append(image)\n",
    "\n",
    "data = {\n",
    "    'imgs': images\n",
    "}\n",
    "\n",
    "r = requests.get(url, json=data)\n",
    "\n",
    "print(r.json())"
   ]
  }
 ],
 "metadata": {
  "kernelspec": {
   "display_name": "base",
   "language": "python",
   "name": "python3"
  },
  "language_info": {
   "codemirror_mode": {
    "name": "ipython",
    "version": 3
   },
   "file_extension": ".py",
   "mimetype": "text/x-python",
   "name": "python",
   "nbconvert_exporter": "python",
   "pygments_lexer": "ipython3",
   "version": "3.10.11"
  }
 },
 "nbformat": 4,
 "nbformat_minor": 2
}
