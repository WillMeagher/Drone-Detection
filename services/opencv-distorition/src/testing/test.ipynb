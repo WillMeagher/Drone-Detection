{
 "cells": [
  {
   "cell_type": "code",
   "execution_count": 11,
   "metadata": {},
   "outputs": [],
   "source": [
    "import requests\n",
    "import json\n",
    "\n",
    "YOLO_ENDPOINT = \"http://yolo-localization:5000\"\n",
    "DISTANCE_ENDPOINT = \"http://localhost:5000\""
   ]
  },
  {
   "cell_type": "markdown",
   "metadata": {},
   "source": [
    "I uploaded 3 pairs of test images holding a drone at different distances\n",
    "- 1: about 2 meters\n",
    "- 2: about 1 meter\n",
    "- 3: about 0.5 meters"
   ]
  },
  {
   "cell_type": "code",
   "execution_count": 20,
   "metadata": {},
   "outputs": [
    {
     "data": {
      "text/plain": [
       "[[1.8904335455032686], [0.9793293455927826], [0.548168362699157]]"
      ]
     },
     "execution_count": 20,
     "metadata": {},
     "output_type": "execute_result"
    }
   ],
   "source": [
    "data = {\n",
    "  \"img_pairs\": [\n",
    "    ['/app/data/uploaded/test_img_l1.png', '/app/data/uploaded/test_img_r1.png'],\n",
    "    ['/app/data/uploaded/test_img_l2.png', '/app/data/uploaded/test_img_r2.png'],\n",
    "    ['/app/data/uploaded/test_img_l3.png', '/app/data/uploaded/test_img_r3.png'],\n",
    "  ]\n",
    "}\n",
    "r = requests.get(DISTANCE_ENDPOINT, json=data)\n",
    "json.loads(r.content)"
   ]
  },
  {
   "cell_type": "markdown",
   "metadata": {},
   "source": [
    "For stereo calibration you always need to operate on a pair of images, and it applies individual camera and stereo corrections at the same time. You could break it up but I don't see a point atm, and the opencv function does it at the same time anyway.\n",
    "\n",
    "The service right now applies the correction then calls yolo-localization for each picture of the pair. Running YOLO on my cpu is like 1sec an image, so I do not have a sense of if this is too slow.\n",
    "\n",
    "I was messing around with distance detection without using the Yolo model at all, and it might should be possible but it is a lot pickier and needs more attention. I might get to it at some point."
   ]
  }
 ],
 "metadata": {
  "kernelspec": {
   "display_name": "Python 3",
   "language": "python",
   "name": "python3"
  },
  "language_info": {
   "codemirror_mode": {
    "name": "ipython",
    "version": 3
   },
   "file_extension": ".py",
   "mimetype": "text/x-python",
   "name": "python",
   "nbconvert_exporter": "python",
   "pygments_lexer": "ipython3",
   "version": "3.10.13"
  }
 },
 "nbformat": 4,
 "nbformat_minor": 2
}
