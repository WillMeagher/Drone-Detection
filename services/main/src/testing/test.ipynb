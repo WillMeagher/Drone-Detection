{
 "cells": [
  {
   "cell_type": "code",
   "execution_count": 1,
   "metadata": {},
   "outputs": [],
   "source": [
    "import cv2\n",
    "from pipeline import pipeline, pipeline_stereo"
   ]
  },
  {
   "cell_type": "code",
   "execution_count": 2,
   "metadata": {},
   "outputs": [],
   "source": [
    "test_img_1 = \"/app/data/TRAIN_txt/0001.jpg\"\n",
    "test_img_2 = \"/app/data/TRAIN_txt/0003.jpg\"\n",
    "\n",
    "img_1 = cv2.imread(test_img_1)\n",
    "img_2 = cv2.imread(test_img_2)"
   ]
  },
  {
   "cell_type": "code",
   "execution_count": 3,
   "metadata": {},
   "outputs": [],
   "source": [
    "out_imgs = pipeline([img_1, img_2])"
   ]
  },
  {
   "cell_type": "code",
   "execution_count": 4,
   "metadata": {},
   "outputs": [],
   "source": [
    "for i, out_img in enumerate(out_imgs):\n",
    "    cv2.imwrite(f\"./0001_{i}.jpg\", out_img)"
   ]
  },
  {
   "cell_type": "code",
   "execution_count": 5,
   "metadata": {},
   "outputs": [],
   "source": [
    "test_stereo_img_paths = [\n",
    "    \"/app/data/uploaded/test_img_l1.png\",\n",
    "    \"/app/data/uploaded/test_img_r1.png\",\n",
    "    \"/app/data/uploaded/test_img_l2.png\",\n",
    "    \"/app/data/uploaded/test_img_r2.png\",\n",
    "    \"/app/data/uploaded/test_img_l3.png\",\n",
    "    \"/app/data/uploaded/test_img_r3.png\",\n",
    "]\n",
    "\n",
    "test_stereo_imgs = [cv2.imread(path) for path in test_stereo_img_paths]"
   ]
  },
  {
   "cell_type": "code",
   "execution_count": 6,
   "metadata": {},
   "outputs": [],
   "source": [
    "out_imgs = pipeline_stereo(test_stereo_imgs)"
   ]
  },
  {
   "cell_type": "code",
   "execution_count": 7,
   "metadata": {},
   "outputs": [],
   "source": [
    "for i, out_img in enumerate(out_imgs):\n",
    "    cv2.imwrite(f\"./stereo_{i}.jpg\", out_img)"
   ]
  }
 ],
 "metadata": {
  "kernelspec": {
   "display_name": "Python 3 (ipykernel)",
   "language": "python",
   "name": "python3"
  },
  "language_info": {
   "codemirror_mode": {
    "name": "ipython",
    "version": 3
   },
   "file_extension": ".py",
   "mimetype": "text/x-python",
   "name": "python",
   "nbconvert_exporter": "python",
   "pygments_lexer": "ipython3",
   "version": "3.10.13"
  }
 },
 "nbformat": 4,
 "nbformat_minor": 2
}
