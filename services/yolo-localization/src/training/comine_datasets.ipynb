{
 "cells": [
  {
   "cell_type": "code",
   "execution_count": 1,
   "metadata": {},
   "outputs": [],
   "source": [
    "import os\n",
    "import shutil"
   ]
  },
  {
   "cell_type": "code",
   "execution_count": 2,
   "metadata": {},
   "outputs": [],
   "source": [
    "DATA_DIR = \"/app/data/yolo/\"\n",
    "OUT_DIR_TRAIN = os.path.join(DATA_DIR, \"train_combined\")\n",
    "OUT_DIR_VAL = os.path.join(DATA_DIR, \"val_combined\")\n",
    "\n",
    "IN_DIRS = [\"database_0\", \"database_1\"]\n",
    "\n",
    "TRAIN_SPLIT = 0.8\n",
    "\n",
    "if not os.path.exists(OUT_DIR_TRAIN):\n",
    "    os.makedirs(OUT_DIR_TRAIN)\n",
    "\n",
    "if not os.path.exists(OUT_DIR_VAL):\n",
    "    os.makedirs(OUT_DIR_VAL)"
   ]
  },
  {
   "cell_type": "code",
   "execution_count": 3,
   "metadata": {},
   "outputs": [],
   "source": [
    "for IN_DIR in IN_DIRS:\n",
    "    files = os.listdir(os.path.join(DATA_DIR, IN_DIR))\n",
    "    files.sort()\n",
    "\n",
    "    for i, file in enumerate(files):\n",
    "        if i < TRAIN_SPLIT * len(files):\n",
    "            shutil.copyfile(\n",
    "                os.path.join(DATA_DIR, IN_DIR, file),\n",
    "                os.path.join(OUT_DIR_TRAIN, IN_DIR + \"_\" + file)\n",
    "            )\n",
    "        else:\n",
    "            shutil.copyfile(\n",
    "                os.path.join(DATA_DIR, IN_DIR, file),\n",
    "                os.path.join(OUT_DIR_VAL, IN_DIR + \"_\" + file)\n",
    "            )"
   ]
  },
  {
   "cell_type": "code",
   "execution_count": 5,
   "metadata": {},
   "outputs": [
    {
     "name": "stdout",
     "output_type": "stream",
     "text": [
      "len of train:  8596\n",
      "len of test:  2148\n"
     ]
    }
   ],
   "source": [
    "# print lens of each dataset\n",
    "print(\"len of train: \", len(os.listdir(OUT_DIR_TRAIN)))\n",
    "print(\"len of test: \", len(os.listdir(OUT_DIR_VAL)))"
   ]
  }
 ],
 "metadata": {
  "kernelspec": {
   "display_name": "base",
   "language": "python",
   "name": "python3"
  },
  "language_info": {
   "codemirror_mode": {
    "name": "ipython",
    "version": 3
   },
   "file_extension": ".py",
   "mimetype": "text/x-python",
   "name": "python",
   "nbconvert_exporter": "python",
   "pygments_lexer": "ipython3",
   "version": "3.10.11"
  }
 },
 "nbformat": 4,
 "nbformat_minor": 2
}
