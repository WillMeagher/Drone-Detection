{
 "cells": [
  {
   "cell_type": "code",
   "execution_count": 1,
   "metadata": {},
   "outputs": [],
   "source": [
    "import requests\n",
    "import json\n",
    "import os"
   ]
  },
  {
   "cell_type": "code",
   "execution_count": 9,
   "metadata": {},
   "outputs": [],
   "source": [
    "img = '/app/data/uploaded/f9ae3372-5297-4988-b723-2cf7bbcbb4ea.jpg'\n",
    "url = \"http://localhost:5001/\""
   ]
  },
  {
   "cell_type": "code",
   "execution_count": 10,
   "metadata": {},
   "outputs": [
    {
     "name": "stdout",
     "output_type": "stream",
     "text": [
      "<Response [200]>\n",
      "{'/app/data/uploaded/f9ae3372-5297-4988-b723-2cf7bbcbb4ea.jpg': [{'conf': 0.7485507726669312, 'lable': 'drone', 'xyxy': [595.5664672851562, 297.9300231933594, 709.2900390625, 349.5944519042969]}, {'conf': 0.7067886590957642, 'lable': 'drone', 'xyxy': [140.36080932617188, 15.887968063354492, 869.6448364257812, 239.36795043945312]}, {'conf': 0.659229576587677, 'lable': 'drone', 'xyxy': [30.429059982299805, 188.7173309326172, 179.4387969970703, 249.27980041503906]}, {'conf': 0.6237845420837402, 'lable': 'drone', 'xyxy': [113.15149688720703, 264.9269714355469, 461.5376281738281, 371.4345397949219]}, {'conf': 0.3273029327392578, 'lable': 'drone', 'xyxy': [710.9306030273438, 162.04966735839844, 868.7796020507812, 218.2317352294922]}]}\n"
     ]
    }
   ],
   "source": [
    "images = [img]\n",
    "\n",
    "data = {\n",
    "    'imgs': images\n",
    "}\n",
    "\n",
    "r = requests.get(url, json=data)\n",
    "\n",
    "print(r)\n",
    "print(r.json())"
   ]
  },
  {
   "cell_type": "code",
   "execution_count": null,
   "metadata": {},
   "outputs": [],
   "source": []
  }
 ],
 "metadata": {
  "kernelspec": {
   "display_name": "base",
   "language": "python",
   "name": "python3"
  },
  "language_info": {
   "codemirror_mode": {
    "name": "ipython",
    "version": 3
   },
   "file_extension": ".py",
   "mimetype": "text/x-python",
   "name": "python",
   "nbconvert_exporter": "python",
   "pygments_lexer": "ipython3",
   "version": "3.10.11"
  }
 },
 "nbformat": 4,
 "nbformat_minor": 2
}
