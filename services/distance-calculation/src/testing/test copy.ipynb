{
 "cells": [
  {
   "cell_type": "code",
   "execution_count": 8,
   "metadata": {},
   "outputs": [],
   "source": [
    "import requests\n",
    "import json\n",
    "import os"
   ]
  },
  {
   "cell_type": "code",
   "execution_count": 9,
   "metadata": {},
   "outputs": [],
   "source": [
    "THIS_ENDPOINT = \"http://localhost:5001/\"\n",
    "YOLO_ENDPOINT = \"http://yolo-localization:5000/\""
   ]
  },
  {
   "cell_type": "code",
   "execution_count": 10,
   "metadata": {},
   "outputs": [],
   "source": [
    "data = {\n",
    "  \"imgs\": [\n",
    "    '/app/data/uploaded_corrected/left_img0.jpg', \n",
    "    '/app/data/uploaded_corrected/right_img0.jpg',\n",
    "    '/app/data/uploaded_corrected/left_img1.jpg', \n",
    "    '/app/data/uploaded_corrected/right_img1.jpg',\n",
    "    '/app/data/uploaded_corrected/left_img2.jpg', \n",
    "    '/app/data/uploaded_corrected/right_img2.jpg',\n",
    "  ]\n",
    "}"
   ]
  },
  {
   "cell_type": "code",
   "execution_count": 11,
   "metadata": {},
   "outputs": [
    {
     "name": "stdout",
     "output_type": "stream",
     "text": [
      "<Response [200]>\n",
      "[[{'conf': 0.28552621603012085, 'label': 'drone', 'xyxy': [979.5294799804688, 65.60712432861328, 1551.555419921875, 680.71044921875]}], [{'conf': 0.29081204533576965, 'label': 'drone', 'xyxy': [876.3446044921875, 56.878326416015625, 1444.0506591796875, 629.2539672851562]}], [{'conf': 0.6118366122245789, 'label': 'drone', 'xyxy': [225.79312133789062, 361.1758117675781, 691.4749145507812, 960.07373046875]}], [{'conf': 0.7727741003036499, 'label': 'drone', 'xyxy': [8.775924682617188, 366.4251708984375, 490.88446044921875, 1012.2894287109375]}], [{'conf': 0.8475546836853027, 'label': 'drone', 'xyxy': [324.7568359375, 167.19085693359375, 1262.64208984375, 1036.62939453125]}], [{'conf': 0.8730694055557251, 'label': 'drone', 'xyxy': [0.16094970703125, 157.54879760742188, 856.2283935546875, 1019.259033203125]}]]\n",
      "6\n"
     ]
    }
   ],
   "source": [
    "r = requests.get(YOLO_ENDPOINT, json=data)\n",
    "\n",
    "print(r)\n",
    "r_json = r.json()\n",
    "print(r_json)\n",
    "print(len(r_json))"
   ]
  },
  {
   "cell_type": "code",
   "execution_count": 12,
   "metadata": {},
   "outputs": [],
   "source": [
    "r_json[1] = []\n",
    "r_json[0].append(r_json[3][0])"
   ]
  },
  {
   "cell_type": "code",
   "execution_count": 13,
   "metadata": {},
   "outputs": [
    {
     "name": "stdout",
     "output_type": "stream",
     "text": [
      "<Response [200]>\n",
      "[\n",
      "  [\n",
      "    null,\n",
      "    null\n",
      "  ],\n",
      "  [\n",
      "    0.9578368573552407\n",
      "  ],\n",
      "  [\n",
      "    0.5471884493112988\n",
      "  ]\n",
      "]\n",
      "\n"
     ]
    }
   ],
   "source": [
    "\n",
    "data = {\n",
    "  \"boxes\": r_json\n",
    "}\n",
    "\n",
    "r = requests.get(THIS_ENDPOINT, json=data)\n",
    "print(r)\n",
    "print(r.text)"
   ]
  },
  {
   "cell_type": "code",
   "execution_count": 14,
   "metadata": {},
   "outputs": [
    {
     "name": "stdout",
     "output_type": "stream",
     "text": [
      "[[None, None], [0.9578368573552407], [0.5471884493112988]]\n"
     ]
    }
   ],
   "source": [
    "print(r.json())"
   ]
  }
 ],
 "metadata": {
  "kernelspec": {
   "display_name": "base",
   "language": "python",
   "name": "python3"
  },
  "language_info": {
   "codemirror_mode": {
    "name": "ipython",
    "version": 3
   },
   "file_extension": ".py",
   "mimetype": "text/x-python",
   "name": "python",
   "nbconvert_exporter": "python",
   "pygments_lexer": "ipython3",
   "version": "3.10.13"
  }
 },
 "nbformat": 4,
 "nbformat_minor": 2
}
