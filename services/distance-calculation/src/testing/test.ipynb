{
 "cells": [
  {
   "cell_type": "code",
   "execution_count": 1,
   "metadata": {},
   "outputs": [],
   "source": [
    "import requests\n",
    "import json\n",
    "import os"
   ]
  },
  {
   "cell_type": "code",
   "execution_count": 2,
   "metadata": {},
   "outputs": [],
   "source": [
    "THIS_ENDPOINT = \"http://localhost:5000/\"\n",
    "YOLO_ENDPOINT = \"http://yolo-localization:5000/\""
   ]
  },
  {
   "cell_type": "code",
   "execution_count": 5,
   "metadata": {},
   "outputs": [],
   "source": [
    "data = {\n",
    "  \"imgs\": [\n",
    "    '/app/data/uploaded_corrected/test_img_l1.png', \n",
    "    '/app/data/uploaded_corrected/test_img_r1.png',\n",
    "    '/app/data/uploaded_corrected/test_img_l2.png', \n",
    "    '/app/data/uploaded_corrected/test_img_r2.png',\n",
    "    '/app/data/uploaded_corrected/test_img_l3.png', \n",
    "    '/app/data/uploaded_corrected/test_img_r3.png',\n",
    "  ]\n",
    "}"
   ]
  },
  {
   "cell_type": "code",
   "execution_count": 6,
   "metadata": {},
   "outputs": [
    {
     "name": "stdout",
     "output_type": "stream",
     "text": [
      "<Response [200]>\n",
      "[[{'conf': 0.27279239892959595, 'label': 'drone', 'xyxy': [979.0259399414062, 64.70191955566406, 1553.056884765625, 688.067626953125]}], [{'conf': 0.3011496961116791, 'label': 'drone', 'xyxy': [876.746337890625, 55.63298034667969, 1443.7474365234375, 635.298095703125]}], [{'conf': 0.627536952495575, 'label': 'drone', 'xyxy': [226.04254150390625, 362.4480285644531, 691.4921875, 936.44091796875]}], [{'conf': 0.7771687507629395, 'label': 'drone', 'xyxy': [8.632278442382812, 366.440185546875, 500.4970703125, 1008.1679077148438]}], [{'conf': 0.8446665406227112, 'label': 'drone', 'xyxy': [323.62811279296875, 166.31021118164062, 1262.869873046875, 1038.013427734375]}], [{'conf': 0.8717416524887085, 'label': 'drone', 'xyxy': [0.18365478515625, 157.35324096679688, 856.59228515625, 1019.041748046875]}]]\n",
      "6\n"
     ]
    }
   ],
   "source": [
    "r = requests.get(YOLO_ENDPOINT, json=data)\n",
    "\n",
    "print(r)\n",
    "r_json = r.json()\n",
    "print(r_json)\n",
    "print(len(r_json))"
   ]
  },
  {
   "cell_type": "code",
   "execution_count": 13,
   "metadata": {},
   "outputs": [
    {
     "name": "stdout",
     "output_type": "stream",
     "text": [
      "[[{'conf': 0.627536952495575, 'label': 'drone', 'xyxy': [226.04254150390625, 362.4480285644531, 691.4921875, 936.44091796875]}], [{'conf': 0.7771687507629395, 'label': 'drone', 'xyxy': [8.632278442382812, 366.440185546875, 500.4970703125, 1008.1679077148438]}]]\n",
      "<Response [200]>\n"
     ]
    }
   ],
   "source": [
    "data = {\n",
    "  \"boxes\": r_json\n",
    "}\n",
    "\n",
    "print(r_json_pairs[1])\n",
    "\n",
    "r = requests.get(THIS_ENDPOINT, json=data)\n",
    "print(r)"
   ]
  },
  {
   "cell_type": "code",
   "execution_count": 14,
   "metadata": {},
   "outputs": [
    {
     "name": "stdout",
     "output_type": "stream",
     "text": [
      "[[1.890456994093764], [0.979419026644805], [0.5481539200415934]]\n"
     ]
    }
   ],
   "source": [
    "print(r.json())"
   ]
  }
 ],
 "metadata": {
  "kernelspec": {
   "display_name": "base",
   "language": "python",
   "name": "python3"
  },
  "language_info": {
   "codemirror_mode": {
    "name": "ipython",
    "version": 3
   },
   "file_extension": ".py",
   "mimetype": "text/x-python",
   "name": "python",
   "nbconvert_exporter": "python",
   "pygments_lexer": "ipython3",
   "version": "2.7.0"
  }
 },
 "nbformat": 4,
 "nbformat_minor": 2
}
